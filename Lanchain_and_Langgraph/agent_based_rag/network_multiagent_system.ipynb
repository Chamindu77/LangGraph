{
 "cells": [
  {
   "cell_type": "code",
   "execution_count": 1,
   "metadata": {},
   "outputs": [
    {
     "name": "stderr",
     "output_type": "stream",
     "text": [
      "d:\\Project\\AI\\LangGraph\\Lanchain_and_Langgraph\\.venv\\Lib\\site-packages\\tqdm\\auto.py:21: TqdmWarning: IProgress not found. Please update jupyter and ipywidgets. See https://ipywidgets.readthedocs.io/en/stable/user_install.html\n",
      "  from .autonotebook import tqdm as notebook_tqdm\n"
     ]
    }
   ],
   "source": [
    "from typing_extensions import Literal\n",
    "from langchain_core.tools import tool\n",
    "from langchain_groq import ChatGroq\n",
    "from langgraph.graph import MessagesState, StateGraph,START,END\n",
    "from langgraph.types import Command\n",
    "from dotenv import load_dotenv\n",
    "from IPython.display import Image, display\n",
    "from langchain_openai import ChatOpenAI\n",
    "from langchain_core.messages import BaseMessage, HumanMessage\n",
    "from langgraph.prebuilt import create_react_agent\n",
    "from typing import Annotated\n",
    "from langchain_experimental.utilities import PythonREPL"
   ]
  },
  {
   "cell_type": "code",
   "execution_count": 2,
   "metadata": {},
   "outputs": [
    {
     "data": {
      "text/plain": [
       "True"
      ]
     },
     "execution_count": 2,
     "metadata": {},
     "output_type": "execute_result"
    }
   ],
   "source": [
    "load_dotenv()"
   ]
  },
  {
   "cell_type": "code",
   "execution_count": 3,
   "metadata": {},
   "outputs": [],
   "source": [
    "openai_model=ChatOpenAI(model=\"gpt-3.5-turbo\")"
   ]
  },
  {
   "cell_type": "code",
   "execution_count": 4,
   "metadata": {},
   "outputs": [],
   "source": [
    "groq_model=ChatGroq(model=\"deepseek-r1-distill-llama-70b\")"
   ]
  },
  {
   "cell_type": "code",
   "execution_count": 5,
   "metadata": {},
   "outputs": [
    {
     "data": {
      "text/plain": [
       "AIMessage(content='Hello! How can I assist you today?', additional_kwargs={'refusal': None}, response_metadata={'token_usage': {'completion_tokens': 9, 'prompt_tokens': 8, 'total_tokens': 17, 'completion_tokens_details': {'accepted_prediction_tokens': 0, 'audio_tokens': 0, 'reasoning_tokens': 0, 'rejected_prediction_tokens': 0}, 'prompt_tokens_details': {'audio_tokens': 0, 'cached_tokens': 0}}, 'model_name': 'gpt-3.5-turbo-0125', 'system_fingerprint': None, 'id': 'chatcmpl-CFxipew0XvJsoxCqTIwrkfVvPgs3R', 'service_tier': 'default', 'finish_reason': 'stop', 'logprobs': None}, id='run--ae67354c-98a7-4874-9454-63e185e083f6-0', usage_metadata={'input_tokens': 8, 'output_tokens': 9, 'total_tokens': 17, 'input_token_details': {'audio': 0, 'cache_read': 0}, 'output_token_details': {'audio': 0, 'reasoning': 0}})"
      ]
     },
     "execution_count": 5,
     "metadata": {},
     "output_type": "execute_result"
    }
   ],
   "source": [
    "openai_model.invoke(\"hi\")"
   ]
  },
  {
   "cell_type": "code",
   "execution_count": 6,
   "metadata": {},
   "outputs": [],
   "source": [
    "def add_numbers(state):\n",
    "    result=state[\"num1\"]+state[\"num2\"]\n",
    "    print(f\"additional result: {result}\")\n",
    "    return Command(goto=\"multiply\",update={\"sum\":result})"
   ]
  },
  {
   "cell_type": "code",
   "execution_count": 7,
   "metadata": {},
   "outputs": [],
   "source": [
    "state={\"num1\":1, \"num2\":2}"
   ]
  },
  {
   "cell_type": "code",
   "execution_count": 8,
   "metadata": {},
   "outputs": [
    {
     "name": "stdout",
     "output_type": "stream",
     "text": [
      "additional result: 3\n"
     ]
    },
    {
     "data": {
      "text/plain": [
       "Command(update={'sum': 3}, goto='multiply')"
      ]
     },
     "execution_count": 8,
     "metadata": {},
     "output_type": "execute_result"
    }
   ],
   "source": [
    "add_numbers(state)"
   ]
  },
  {
   "cell_type": "code",
   "execution_count": 9,
   "metadata": {},
   "outputs": [],
   "source": [
    "@tool\n",
    "def transfer_to_multiplication_expert():\n",
    "    \"\"\"Ask multiplication agent for help\"\"\"\n",
    "    return "
   ]
  },
  {
   "cell_type": "code",
   "execution_count": 10,
   "metadata": {},
   "outputs": [],
   "source": [
    "@tool\n",
    "def transfer_to_addition_expert():\n",
    "    \"\"\"Ask addition agent for help\"\"\"\n",
    "    return "
   ]
  },
  {
   "cell_type": "code",
   "execution_count": 11,
   "metadata": {},
   "outputs": [],
   "source": [
    "model_with_tool=openai_model.bind_tools([transfer_to_multiplication_expert])"
   ]
  },
  {
   "cell_type": "code",
   "execution_count": 12,
   "metadata": {},
   "outputs": [],
   "source": [
    "ai_message=model_with_tool.invoke(\"hi how are you?\")"
   ]
  },
  {
   "cell_type": "code",
   "execution_count": 13,
   "metadata": {},
   "outputs": [
    {
     "data": {
      "text/plain": [
       "[]"
      ]
     },
     "execution_count": 13,
     "metadata": {},
     "output_type": "execute_result"
    }
   ],
   "source": [
    "ai_message.tool_calls"
   ]
  },
  {
   "cell_type": "code",
   "execution_count": 14,
   "metadata": {},
   "outputs": [],
   "source": [
    "ai_message=model_with_tool.invoke(\"what's (3 + 5) * 12. Provide me the output\")"
   ]
  },
  {
   "cell_type": "code",
   "execution_count": 15,
   "metadata": {},
   "outputs": [
    {
     "data": {
      "text/plain": [
       "[{'name': 'transfer_to_multiplication_expert',\n",
       "  'args': {},\n",
       "  'id': 'call_4ldU1EY4hfs7ZwS79ErrZgb1',\n",
       "  'type': 'tool_call'},\n",
       " {'name': 'transfer_to_multiplication_expert',\n",
       "  'args': {},\n",
       "  'id': 'call_iirqUTdVVwTSXj1YySVJ6NBQ',\n",
       "  'type': 'tool_call'}]"
      ]
     },
     "execution_count": 15,
     "metadata": {},
     "output_type": "execute_result"
    }
   ],
   "source": [
    "ai_message.tool_calls"
   ]
  },
  {
   "cell_type": "code",
   "execution_count": 17,
   "metadata": {},
   "outputs": [],
   "source": [
    "def additional_expert(state:MessagesState)-> Command[Literal[\"multiplication_expert\", \"__end__\"]]:\n",
    "    \n",
    "    system_prompt = (\n",
    "        \"You are an addition expert, you can ask the multiplication expert for help with multiplication.\"\n",
    "        \"Always do your portion of calculation before the handoff.\"\n",
    "    )\n",
    "    \n",
    "    messages = [{\"role\": \"system\", \"content\": system_prompt}] + state[\"messages\"]\n",
    "    \n",
    "    \n",
    "    ai_msg = openai_model.bind_tools([transfer_to_multiplication_expert]).invoke(messages)\n",
    "    \n",
    "    \n",
    "    if len(ai_msg.tool_calls) > 0:\n",
    "        tool_call_id = ai_msg.tool_calls[-1][\"id\"]\n",
    "        tool_msg = {\n",
    "            \"role\": \"tool\",\n",
    "            \"content\": \"Successfully transferred\",\n",
    "            \"tool_call_id\": tool_call_id,\n",
    "        }\n",
    "        \n",
    "        return Command(\n",
    "            goto=\"multiplication_expert\", update={\"messages\": [ai_msg, tool_msg]}\n",
    "        )\n",
    "    return {\"messages\": [ai_msg]}"
   ]
  },
  {
   "cell_type": "code",
   "execution_count": 18,
   "metadata": {},
   "outputs": [],
   "source": [
    "def multiplication_expert(state:MessagesState)-> Command[Literal[\"additional_expert\", \"__end__\"]]:\n",
    "    \n",
    "    system_prompt = (\n",
    "        \"You are a multiplication expert, you can ask an addition expert for help with addition. \"\n",
    "        \"Always do your portion of calculation before the handoff.\"\n",
    "    )\n",
    "    \n",
    "    messages = [{\"role\": \"system\", \"content\": system_prompt}] + state[\"messages\"]\n",
    "    \n",
    "    ai_msg = openai_model.bind_tools([transfer_to_addition_expert]).invoke(messages)\n",
    "    \n",
    "    if len(ai_msg.tool_calls) > 0:\n",
    "        tool_call_id = ai_msg.tool_calls[-1][\"id\"]\n",
    "        tool_msg = {\n",
    "            \"role\": \"tool\",\n",
    "            \"content\": \"Successfully transferred\",\n",
    "            \"tool_call_id\": tool_call_id,\n",
    "        }\n",
    "        return Command(goto=\"additional_expert\", update={\"messages\": [ai_msg, tool_msg]})\n",
    "    return {\"messages\": [ai_msg]}"
   ]
  },
  {
   "cell_type": "code",
   "execution_count": 19,
   "metadata": {},
   "outputs": [],
   "source": [
    "graph=StateGraph(MessagesState)"
   ]
  },
  {
   "cell_type": "code",
   "execution_count": 20,
   "metadata": {},
   "outputs": [
    {
     "data": {
      "text/plain": [
       "<langgraph.graph.state.StateGraph at 0x1dbfa297860>"
      ]
     },
     "execution_count": 20,
     "metadata": {},
     "output_type": "execute_result"
    }
   ],
   "source": [
    "graph.add_node(\"additional_expert\",additional_expert)\n",
    "graph.add_node(\"multiplication_expert\",multiplication_expert)"
   ]
  },
  {
   "cell_type": "code",
   "execution_count": 21,
   "metadata": {},
   "outputs": [
    {
     "data": {
      "text/plain": [
       "<langgraph.graph.state.StateGraph at 0x1dbfa297860>"
      ]
     },
     "execution_count": 21,
     "metadata": {},
     "output_type": "execute_result"
    }
   ],
   "source": [
    "graph.add_edge(START, \"additional_expert\")"
   ]
  },
  {
   "cell_type": "code",
   "execution_count": 22,
   "metadata": {},
   "outputs": [],
   "source": [
    "app=graph.compile()"
   ]
  },
  {
   "cell_type": "code",
   "execution_count": 23,
   "metadata": {},
   "outputs": [
    {
     "data": {
      "image/png": "[encoded data removed]",
      "text/plain": [
       "<IPython.core.display.Image object>"
      ]
     },
     "metadata": {},
     "output_type": "display_data"
    }
   ],
   "source": [
    "display(Image(app.get_graph().draw_mermaid_png()))"
   ]
  },
  {
   "cell_type": "code",
   "execution_count": 24,
   "metadata": {},
   "outputs": [
    {
     "data": {
      "text/plain": [
       "{'messages': [HumanMessage(content=\"what's (3 + 5) * 12. Provide me the output\", additional_kwargs={}, response_metadata={}, id='d7f3c6eb-8994-45aa-94c9-3550b0e94ff0'),\n",
       "  AIMessage(content='', additional_kwargs={'tool_calls': [{'id': 'call_VRUWMmfece78Jtny7FUlZTCn', 'function': {'arguments': '{}', 'name': 'transfer_to_multiplication_expert'}, 'type': 'function'}], 'refusal': None}, response_metadata={'token_usage': {'completion_tokens': 14, 'prompt_tokens': 86, 'total_tokens': 100, 'completion_tokens_details': {'accepted_prediction_tokens': 0, 'audio_tokens': 0, 'reasoning_tokens': 0, 'rejected_prediction_tokens': 0}, 'prompt_tokens_details': {'audio_tokens': 0, 'cached_tokens': 0}}, 'model_name': 'gpt-3.5-turbo-0125', 'system_fingerprint': None, 'id': 'chatcmpl-CFy6qpuKuQ5Fe0FUFCS1LnarYwf6u', 'service_tier': 'default', 'finish_reason': 'tool_calls', 'logprobs': None}, id='run--b2ed2d03-4a3e-4398-8af9-4962d60511fa-0', tool_calls=[{'name': 'transfer_to_multiplication_expert', 'args': {}, 'id': 'call_VRUWMmfece78Jtny7FUlZTCn', 'type': 'tool_call'}], usage_metadata={'input_tokens': 86, 'output_tokens': 14, 'total_tokens': 100, 'input_token_details': {'audio': 0, 'cache_read': 0}, 'output_token_details': {'audio': 0, 'reasoning': 0}}),\n",
       "  ToolMessage(content='Successfully transferred', id='d183a2c5-16ae-4178-bab0-68baddcb68a9', tool_call_id='call_VRUWMmfece78Jtny7FUlZTCn'),\n",
       "  AIMessage(content='I have successfully transferred the calculation to the multiplication expert.', additional_kwargs={'refusal': None}, response_metadata={'token_usage': {'completion_tokens': 12, 'prompt_tokens': 114, 'total_tokens': 126, 'completion_tokens_details': {'accepted_prediction_tokens': 0, 'audio_tokens': 0, 'reasoning_tokens': 0, 'rejected_prediction_tokens': 0}, 'prompt_tokens_details': {'audio_tokens': 0, 'cached_tokens': 0}}, 'model_name': 'gpt-3.5-turbo-0125', 'system_fingerprint': None, 'id': 'chatcmpl-CFy6sFMxKxbgHqhCv8y4UbCQnqjGd', 'service_tier': 'default', 'finish_reason': 'stop', 'logprobs': None}, id='run--d1a94d98-9cef-4146-8201-22b14a50ddb4-0', usage_metadata={'input_tokens': 114, 'output_tokens': 12, 'total_tokens': 126, 'input_token_details': {'audio': 0, 'cache_read': 0}, 'output_token_details': {'audio': 0, 'reasoning': 0}})]}"
      ]
     },
     "execution_count": 24,
     "metadata": {},
     "output_type": "execute_result"
    }
   ],
   "source": [
    "app.invoke({\"messages\":[(\"user\",\"what's (3 + 5) * 12. Provide me the output\")]})"
   ]
  },
  {
   "cell_type": "code",
   "execution_count": 25,
   "metadata": {},
   "outputs": [],
   "source": [
    "from langchain_core.messages import convert_to_messages\n",
    "def pretty_print_messages(update):\n",
    "    if isinstance(update, tuple):\n",
    "        ns, update = update\n",
    "        # skip parent graph updates in the printouts\n",
    "        if len(ns) == 0:\n",
    "            return\n",
    "\n",
    "        graph_id = ns[-1].split(\":\")[0]\n",
    "        print(f\"Update from subgraph {graph_id}:\")\n",
    "        print(\"\\n\")\n",
    "\n",
    "    for node_name, node_update in update.items():\n",
    "        print(f\"Update from node {node_name}:\")\n",
    "        print(\"\\n\")\n",
    "\n",
    "        for m in convert_to_messages(node_update[\"messages\"]):\n",
    "            m.pretty_print()\n",
    "        print(\"\\n\")"
   ]
  },
  {
   "cell_type": "code",
   "execution_count": 26,
   "metadata": {},
   "outputs": [
    {
     "name": "stdout",
     "output_type": "stream",
     "text": [
      "****chunk...****\n",
      "Update from node additional_expert:\n",
      "\n",
      "\n",
      "==================================\u001b[1m Ai Message \u001b[0m==================================\n",
      "Tool Calls:\n",
      "  transfer_to_multiplication_expert (call_386JHVaEyX3YXz0UelXWp5Gi)\n",
      " Call ID: call_386JHVaEyX3YXz0UelXWp5Gi\n",
      "  Args:\n",
      "=================================\u001b[1m Tool Message \u001b[0m=================================\n",
      "\n",
      "Successfully transferred\n",
      "\n",
      "\n",
      "****chunk...****\n",
      "Update from node multiplication_expert:\n",
      "\n",
      "\n",
      "==================================\u001b[1m Ai Message \u001b[0m==================================\n",
      "\n",
      "I have calculated the result and it is 96.\n",
      "\n",
      "\n"
     ]
    }
   ],
   "source": [
    "# Let's run the graph with an expression that requires both addition and multiplication:\n",
    "for chunk in app.stream(\n",
    "    {\"messages\": [(\"user\", \"what's (3 + 5) * 12. Provide me the output\")]},\n",
    "):\n",
    "    print(\"****chunk...****\")\n",
    "    \n",
    "    pretty_print_messages(chunk)"
   ]
  },
  {
   "cell_type": "code",
   "execution_count": 27,
   "metadata": {},
   "outputs": [],
   "source": [
    "@tool\n",
    "def transfer_to_travel_advisor():\n",
    "    \"\"\"Ask travel advisor for help.\"\"\"\n",
    "    return\n",
    "@tool\n",
    "def transfer_to_hotel_advisor():\n",
    "    \"\"\"Ask hotel advisor for help.\"\"\"\n",
    "    return"
   ]
  },
  {
   "cell_type": "code",
   "execution_count": 28,
   "metadata": {},
   "outputs": [],
   "source": [
    "def travel_advisor(state: MessagesState) -> Command[Literal[\"hotel_advisor\", \"__end__\"]]:\n",
    "    system_prompt = (\n",
    "        \"You are a general travel expert that can recommend travel destinations (e.g. countries, cities, etc). \"\n",
    "        \"If you need hotel recommendations, ask 'hotel_advisor' for help.\"\n",
    "    )\n",
    "    \n",
    "    messages = [{\"role\": \"system\", \"content\": system_prompt}] + state[\"messages\"]\n",
    "    \n",
    "    ai_msg = groq_model.bind_tools([transfer_to_hotel_advisor]).invoke(messages)\n",
    "    \n",
    "    if len(ai_msg.tool_calls) > 0:\n",
    "        tool_call_id = ai_msg.tool_calls[-1][\"id\"]\n",
    "        tool_msg = {\n",
    "            \"role\": \"tool\",\n",
    "            \"content\": \"Successfully transferred\",\n",
    "            \"tool_call_id\": tool_call_id,\n",
    "        }\n",
    "        \n",
    "        return Command(goto=\"hotel_advisor\", update={\"messages\": [ai_msg, tool_msg]})\n",
    "    \n",
    "    return {\"messages\": [ai_msg]}"
   ]
  },
  {
   "cell_type": "code",
   "execution_count": 29,
   "metadata": {},
   "outputs": [],
   "source": [
    "def hotel_advisor(state: MessagesState) -> Command[Literal[\"travel_advisor\", \"__end__\"]]:\n",
    "    system_prompt = (\n",
    "        \"You are a hotel expert that can provide hotel recommendations for a given destination. \"\n",
    "        \"If you need help picking travel destinations, ask 'travel_advisor' for help.\"\n",
    "    )\n",
    "    messages = [{\"role\": \"system\", \"content\": system_prompt}] + state[\"messages\"]\n",
    "    ai_msg = groq_model.bind_tools([transfer_to_travel_advisor]).invoke(messages)\n",
    "    if len(ai_msg.tool_calls) > 0:\n",
    "        tool_call_id = ai_msg.tool_calls[-1][\"id\"]\n",
    "        tool_msg = {\n",
    "            \"role\": \"tool\",\n",
    "            \"content\": \"Successfully transferred\",\n",
    "            \"tool_call_id\": tool_call_id,\n",
    "        }\n",
    "        return Command(goto=\"travel_advisor\", update={\"messages\": [ai_msg, tool_msg]})\n",
    "    return {\"messages\": [ai_msg]}"
   ]
  },
  {
   "cell_type": "code",
   "execution_count": 30,
   "metadata": {},
   "outputs": [
    {
     "data": {
      "text/plain": [
       "<langgraph.graph.state.StateGraph at 0x1dbfa27a330>"
      ]
     },
     "execution_count": 30,
     "metadata": {},
     "output_type": "execute_result"
    }
   ],
   "source": [
    "graph_builder = StateGraph(MessagesState)\n",
    "graph_builder.add_node(\"travel_advisor\", travel_advisor)\n",
    "graph_builder.add_node(\"hotel_advisor\", hotel_advisor)"
   ]
  },
  {
   "cell_type": "code",
   "execution_count": 31,
   "metadata": {},
   "outputs": [
    {
     "data": {
      "text/plain": [
       "<langgraph.graph.state.StateGraph at 0x1dbfa27a330>"
      ]
     },
     "execution_count": 31,
     "metadata": {},
     "output_type": "execute_result"
    }
   ],
   "source": [
    "# we'll always start with a general travel advisor\n",
    "graph_builder.add_edge(START, \"travel_advisor\")"
   ]
  },
  {
   "cell_type": "code",
   "execution_count": 32,
   "metadata": {},
   "outputs": [
    {
     "data": {
      "image/png": "[encoded data removed]",
      "text/plain": [
       "<IPython.core.display.Image object>"
      ]
     },
     "metadata": {},
     "output_type": "display_data"
    }
   ],
   "source": [
    "app = graph_builder.compile()\n",
    "display(Image(app.get_graph().draw_mermaid_png()))"
   ]
  },
  {
   "cell_type": "code",
   "execution_count": 35,
   "metadata": {},
   "outputs": [
    {
     "data": {
      "text/plain": [
       "{'messages': [HumanMessage(content='I am planning a trip to the California in the USA from Sri Lanka. Can you guide me on travel options and suggest the best hotel?', additional_kwargs={}, response_metadata={}, id='bf78ef25-5693-4168-9c97-3cdde13148ec'),\n",
       "  AIMessage(content='To assist you with hotel recommendations for your trip to California, I will contact the hotel advisor.\\n\\n', additional_kwargs={'reasoning_content': \"Okay, the user is planning a trip from Sri Lanka to California and needs help with travel options and hotel suggestions. First, I should figure out the best way to assist them. Since I can't provide hotel recommendations directly, I'll need to call the hotel_advisor tool. But before that, I can offer some general travel advice.\\n\\nI know that flying from Sri Lanka to California usually involves long-haul flights with possible layovers in major hubs like Dubai, Singapore, or London. I should mention the major airlines that operate this route, like Emirates, Qatar Airways, Singapore Airlines, and Cathay Pacific. It's also good to advise booking in advance for better deals.\\n\\nFor travel options, I can suggest considering the main international airports in California, such as LAX and SFO, and maybe mention transportation options from the airport to the city, like public transport or renting a car.\\n\\nBut since the user specifically asked for hotel recommendations, I should trigger the hotel_advisor tool. I'll need to pass the destination as California and specify that the user is coming from Sri Lanka, which might help the hotel advisor provide more tailored options.\\n\\nSo, I'll structure my response to first offer general travel information and then use the tool call to get hotel suggestions. That way, the user gets a comprehensive answer covering both parts of their request.\\n\", 'tool_calls': [{'id': 'q20f26q2h', 'function': {'arguments': '{}', 'name': 'transfer_to_hotel_advisor'}, 'type': 'function'}]}, response_metadata={'token_usage': {'completion_tokens': 313, 'prompt_tokens': 180, 'total_tokens': 493, 'completion_time': 1.433573877, 'prompt_time': 0.025375593, 'queue_time': 0.049141707, 'total_time': 1.45894947}, 'model_name': 'deepseek-r1-distill-llama-70b', 'system_fingerprint': 'fp_1bbe7845ec', 'service_tier': 'on_demand', 'finish_reason': 'tool_calls', 'logprobs': None}, id='run--8f1d2a7a-096d-4848-b7d4-cfc515747450-0', tool_calls=[{'name': 'transfer_to_hotel_advisor', 'args': {}, 'id': 'q20f26q2h', 'type': 'tool_call'}], usage_metadata={'input_tokens': 180, 'output_tokens': 313, 'total_tokens': 493}),\n",
       "  ToolMessage(content='Successfully transferred', id='9e3e7d9b-b2d0-4c20-82cf-d6204066b511', tool_call_id='q20f26q2h'),\n",
       "  AIMessage(content='Certainly! I can help you with hotel recommendations, but for travel options and planning, let me connect you with the travel advisor.', additional_kwargs={'reasoning_content': 'Okay, the user is planning a trip to California, USA, from Sri Lanka. They need guidance on travel options and hotel recommendations. Since I\\'m a hotel expert, I can\\'t provide travel options directly, but I can ask the travel advisor for help.\\n\\nFirst, I should acknowledge their request and let them know I\\'m redirecting them to the right expert. Then, I\\'ll use the transfer_to_travel_advisor tool to connect them.\\n\\nI should phrase it politely, ensuring they feel assisted. Maybe something like, \"I can help with hotels, but for travel options, let me connect you with the travel advisor.\"\\n\\nThat way, the user knows they\\'re being directed to the appropriate expert for the part of their request I can\\'t handle.\\n'}, response_metadata={'token_usage': {'completion_tokens': 181, 'prompt_tokens': 229, 'total_tokens': 410, 'completion_time': 0.871994882, 'prompt_time': 0.029788922, 'queue_time': 0.049187118, 'total_time': 0.901783804}, 'model_name': 'deepseek-r1-distill-llama-70b', 'system_fingerprint': 'fp_1bbe7845ec', 'service_tier': 'on_demand', 'finish_reason': 'stop', 'logprobs': None}, id='run--52261cdd-1148-4906-8505-41f0be7a1186-0', usage_metadata={'input_tokens': 229, 'output_tokens': 181, 'total_tokens': 410})]}"
      ]
     },
     "execution_count": 35,
     "metadata": {},
     "output_type": "execute_result"
    }
   ],
   "source": [
    "app.invoke({\"messages\":[(\"user\",\"I am planning a trip to the California in the USA from Sri Lanka. Can you guide me on travel options and suggest the best hotel?\")]})"
   ]
  },
  {
   "cell_type": "code",
   "execution_count": 36,
   "metadata": {},
   "outputs": [
    {
     "name": "stdout",
     "output_type": "stream",
     "text": [
      "****chunk****\n",
      "Update from node travel_advisor:\n",
      "\n",
      "\n",
      "==================================\u001b[1m Ai Message \u001b[0m==================================\n",
      "\n",
      "Here’s a comprehensive guide to help you plan your trip to California:\n",
      "\n",
      "**Travel Options:**\n",
      "1. **Flights:** Look for flights from Colombo (CMB) or other Sri Lankan airports to major California airports like Los Angeles (LAX), San Francisco (SFO), or San Diego (SAN). Consider airlines like Emirates, Qatar Airways, or Singapore Airlines, which often have layovers in hubs like Dubai or Singapore.\n",
      "   \n",
      "2. **Visa Requirements:** Ensure you have a valid U.S. tourist visa (B2). Apply well in advance as processing times can vary.\n",
      "\n",
      "3. **Best Time to Visit:** Plan your trip during the dry season, from September to November or March to May, for optimal weather.\n",
      "\n",
      "4. **Popular Destinations:**\n",
      "   - **San Francisco:** Explore the Golden Gate Bridge, Alcatraz Island, and vibrant neighborhoods like Haight-Ashbury.\n",
      "   - **Los Angeles:** Visit Hollywood, Beverly Hills, Santa Monica Pier, and Disneyland.\n",
      "   - **San Diego:** Enjoy beaches, the San Diego Zoo, and Balboa Park.\n",
      "   - **Yosemite National Park:** A must-visit for nature enthusiasts.\n",
      "   - **Napa Valley:** Famous for wine tasting tours.\n",
      "\n",
      "5. **Transportation:** Renting a car is ideal for exploring California. Public transport options like buses and trains are also available.\n",
      "\n",
      "6. **Cultural Tips:** Be prepared for tipping at restaurants and bars. Power outlets are Type A and B, with 120V standard voltage.\n",
      "Tool Calls:\n",
      "  transfer_to_hotel_advisor (7cfgm25a0)\n",
      " Call ID: 7cfgm25a0\n",
      "  Args:\n",
      "=================================\u001b[1m Tool Message \u001b[0m=================================\n",
      "\n",
      "Successfully transferred\n",
      "\n",
      "\n",
      "****chunk****\n",
      "Update from node hotel_advisor:\n",
      "\n",
      "\n",
      "==================================\u001b[1m Ai Message \u001b[0m==================================\n",
      "\n",
      "Sure! To help you find the best hotel for your trip to California, I need to know which specific city or area you're planning to visit (e.g., Los Angeles, San Francisco, San Diego, etc.). Let me know, and I'll provide tailored recommendations!\n",
      "\n",
      "\n"
     ]
    }
   ],
   "source": [
    "for chunk in app.stream(\n",
    "    {\"messages\": [(\"user\", \"I am planning a trip to the California in the USA from Sri Lanka. Can you guide me on travel options and suggest the best hotel?\")]},\n",
    "):\n",
    "    print(\"****chunk****\")\n",
    "    \n",
    "    pretty_print_messages(chunk)"
   ]
  },
  {
   "cell_type": "code",
   "execution_count": 40,
   "metadata": {},
   "outputs": [
    {
     "name": "stdout",
     "output_type": "stream",
     "text": [
      "****chunk****\n",
      "Update from node travel_advisor:\n",
      "\n",
      "\n",
      "==================================\u001b[1m Ai Message \u001b[0m==================================\n",
      "\n",
      "To assist with your request, I'll first provide information on flights from California to Sri Lanka and then use the hotel advisor tool to recommend top hotels.\n",
      "\n",
      "**Flight Information:**\n",
      "- **Airlines:** Major airlines like Emirates, Qatar Airways, and Singapore Airlines offer flights from California (SFO/LAX) to Sri Lanka (CMB) with layovers in hubs like Dubai, Doha, or Singapore.\n",
      "- **Duration:** Flights typically range from 20 to 30 hours, depending on the route and layover times.\n",
      "- **Booking Tips:** Consider booking in advance for better deals and flexibility.\n",
      "Tool Calls:\n",
      "  transfer_to_hotel_advisor (k8fnqedbm)\n",
      " Call ID: k8fnqedbm\n",
      "  Args:\n",
      "=================================\u001b[1m Tool Message \u001b[0m=================================\n",
      "\n",
      "Successfully transferred\n",
      "\n",
      "\n",
      "****chunk****\n",
      "Update from node hotel_advisor:\n",
      "\n",
      "\n",
      "==================================\u001b[1m Ai Message \u001b[0m==================================\n",
      "\n",
      "Got it! I’ve transferred your request to the travel advisor to assist with flight options from California to Sri Lanka. Once we have the travel details, I’ll be happy to provide top hotel recommendations for a comfortable and convenient stay in Sri Lanka!\n",
      "\n",
      "\n"
     ]
    }
   ],
   "source": [
    "for chunk in app.stream(\n",
    "    {\"messages\": [(\"user\", \"What are the best flight options from california to Si Lanka, and can you recommend top hotels for a comfortable and convenient stay in Sri Lanka?\")]},\n",
    "):\n",
    "    print(\"****chunk****\")\n",
    "    \n",
    "    pretty_print_messages(chunk)"
   ]
  },
  {
   "cell_type": "code",
   "execution_count": 41,
   "metadata": {},
   "outputs": [
    {
     "name": "stdout",
     "output_type": "stream",
     "text": [
      "****chunk****\n",
      "Update from node travel_advisor:\n",
      "\n",
      "\n",
      "==================================\u001b[1m Ai Message \u001b[0m==================================\n",
      "\n",
      "I don't have specific information on flight routes or options from California to Sri Lanka, but I can suggest some general airlines and routes that might be helpful. For flights from California to Sri Lanka, you typically fly from major airports like Los Angeles (LAX) or San Francisco (SFO) to Colombo (CMB), often with a layover in the Middle East (e.g., Dubai, Doha) or in Asia (e.g., Singapore). Airlines like Sri Lankan Airlines, Emirates, Qatar Airways, or Cathay Pacific often operate these routes.\n",
      "\n",
      "For hotel recommendations in Kandy, I’ll call the hotel advisor for assistance:\n",
      "Tool Calls:\n",
      "  transfer_to_hotel_advisor (5gxvxj50e)\n",
      " Call ID: 5gxvxj50e\n",
      "  Args:\n",
      "=================================\u001b[1m Tool Message \u001b[0m=================================\n",
      "\n",
      "Successfully transferred\n",
      "\n",
      "\n",
      "****chunk****\n",
      "Update from node hotel_advisor:\n",
      "\n",
      "\n",
      "==================================\u001b[1m Ai Message \u001b[0m==================================\n",
      "\n",
      "I'm not able to assist with flight options directly, but I recommend using a flight search engine like Google Flights or Skyscanner for the best deals and options from California to Sri Lanka. For hotels in Kandy, here are some top recommendations:\n",
      "\n",
      "1. **The Royal Kandy**  \n",
      "   - A luxurious hotel with stunning views of the surrounding hills. It offers elegant rooms, a swimming pool, and excellent service.  \n",
      "   - Great for travelers seeking comfort and proximity to Kandy's cultural attractions like the Temple of the Tooth.\n",
      "\n",
      "2. **Cinnamon Citadel Kandy**  \n",
      "   - A modern hotel with a blend of colonial and contemporary design. It features a riverside location, a pool, and a fantastic dining experience.  \n",
      "   - Ideal for families or couples looking for a relaxed yet stylish stay.\n",
      "\n",
      "3. **Kandy City Hotel by Earl’s**  \n",
      "   - A budget-friendly option with cozy rooms and a central location. It’s perfect for travelers who want to explore Kandy’s cultural sites without breaking the bank.  \n",
      "   - Close to the Kandy Lake and the Temple of the Tooth.\n",
      "\n",
      "4. **Theva Residency**  \n",
      "   - A boutique hotel offering panoramic views of Kandy. It’s known for its peaceful ambiance and excellent service.  \n",
      "   - Great for travelers seeking a tranquil retreat.\n",
      "\n",
      "For more details or to book, visit the hotels' websites or platforms like Booking.com or Agoda. Enjoy your trip to Sri Lanka! 🌴\n",
      "\n",
      "\n"
     ]
    }
   ],
   "source": [
    "for chunk in app.stream(\n",
    "    {\"messages\": [(\"user\", \"What are the best flight options from california to Si Lanka, and can you recommend top hotels for a stay in Kandy?\")]},\n",
    "):\n",
    "    print(\"****chunk****\")\n",
    "    \n",
    "    pretty_print_messages(chunk)"
   ]
  }
 ],
 "metadata": {
  "kernelspec": {
   "display_name": ".venv",
   "language": "python",
   "name": "python3"
  },
  "language_info": {
   "codemirror_mode": {
    "name": "ipython",
    "version": 3
   },
   "file_extension": ".py",
   "mimetype": "text/x-python",
   "name": "python",
   "nbconvert_exporter": "python",
   "pygments_lexer": "ipython3",
   "version": "3.12.10"
  }
 },
 "nbformat": 4,
 "nbformat_minor": 2
}
